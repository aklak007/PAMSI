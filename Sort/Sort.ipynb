{
 "cells": [
  {
   "cell_type": "markdown",
   "id": "573d6d9b",
   "metadata": {},
   "source": [
    "Wpierw importuję mój plik z zaimplementowanymi funkcjami sortowań. Importuję też biblioteki numpy i pandas."
   ]
  },
  {
   "cell_type": "code",
   "execution_count": 4,
   "id": "c6992fec",
   "metadata": {},
   "outputs": [
    {
     "name": "stdout",
     "output_type": "stream",
     "text": [
      "The autoreload extension is already loaded. To reload it, use:\n",
      "  %reload_ext autoreload\n"
     ]
    }
   ],
   "source": [
    "%load_ext autoreload\n",
    "\n",
    "%autoreload 2\n",
    "\n",
    "%reload_ext autoreload\n",
    "import imp_sort as sort\n",
    "import numpy as np\n",
    "import pandas as pd\n",
    "sort_1=sort.sort_class()"
   ]
  },
  {
   "cell_type": "markdown",
   "id": "659810d8",
   "metadata": {},
   "source": [
    "Następnie czytam odczytuje dane z pliku csv i tworzę bazę DataFrame.\n",
    "Następnie tworzę DataFrame, który nie bedzie posiadał niepoprawnych ocen.\n",
    "Zamieniam puste komórki na NaNy.\n",
    "Usuwam NaNy z kolumny rating."
   ]
  },
  {
   "cell_type": "code",
   "execution_count": 6,
   "id": "6eb4007e",
   "metadata": {},
   "outputs": [],
   "source": [
    "imdb_database = pd.read_csv(r'/home/ubuntu/jupyter_dir/Sort/imdb_data.csv')#reading data\n",
    "df = pd.DataFrame(imdb_database)               #basic database\n",
    "df_del = pd.DataFrame(imdb_database)           #deleted ratingsless rows\n",
    "df_del['rating'].replace('', np.nan, inplace=True)#replacing space with nan\n",
    "df_del.dropna(subset=['rating'], inplace=True)#deleting rows that contain NaN in rating"
   ]
  },
  {
   "cell_type": "markdown",
   "id": "315c586e",
   "metadata": {},
   "source": [
    "Następnie posługując się funkcjami where oraz isnull mogę sprawdzić czy wciąż w plikach są jakieś błędne oceny."
   ]
  },
  {
   "cell_type": "code",
   "execution_count": 3,
   "id": "488d5e78",
   "metadata": {},
   "outputs": [],
   "source": [
    "#%%timeit -r 1 -n 1 #time check\n",
    "#np.where(pd.isnull(df_del)) #searching for blank cells"
   ]
  },
  {
   "cell_type": "markdown",
   "id": "b175642d",
   "metadata": {},
   "source": [
    "Porównanie kilku wartości z dwóch DataFrame'ów. W pierwszym jest NaN. Drugi to DataFrame bez NaNów."
   ]
  },
  {
   "cell_type": "code",
   "execution_count": 7,
   "id": "5e706633",
   "metadata": {},
   "outputs": [
    {
     "name": "stdout",
     "output_type": "stream",
     "text": [
      "       Unnamed: 0                               movie  rating\n",
      "51584       51584            The Hateful Eight (2015)     7.0\n",
      "51585       51585        American Experience (1988– )     NaN\n",
      "51586       51586  The Man Who Cheated Himself (1950)     5.0\n",
      "51587       51587                       Tarzan (2013)     6.0\n",
      "       Unnamed: 0                               movie  rating\n",
      "51584       51584            The Hateful Eight (2015)     7.0\n",
      "51586       51586  The Man Who Cheated Himself (1950)     5.0\n",
      "51587       51587                       Tarzan (2013)     6.0\n"
     ]
    }
   ],
   "source": [
    "print(df[51584:51588])\n",
    "print(df_del[51584:51587])"
   ]
  },
  {
   "cell_type": "markdown",
   "id": "e56882b5",
   "metadata": {},
   "source": [
    "Tworzę kilka różnych DataFrame'ów z różną liczbą danych."
   ]
  },
  {
   "cell_type": "code",
   "execution_count": 8,
   "id": "fbe97a5c",
   "metadata": {},
   "outputs": [],
   "source": [
    "df1e4 = df_del[:10000]   #database contains first 10000 rows\n",
    "df1e5 = df_del[:100000]  #database contains first 100000 rows\n",
    "df5e5 = df_del[:500000]  #database contains first 500000 rows\n",
    "df1e6 = df_del[:1000000] #database contains first 1000000 rows"
   ]
  },
  {
   "cell_type": "markdown",
   "id": "62d408e5",
   "metadata": {},
   "source": [
    "Zamieniam DataFrame na listę, aby możliwe było zaimplementowanie moich własnych sortowań. DataFrame sam posiada wbudowanych kilka różnych sortowań, wystarczy użyć sort_values. Tworzę kilka różnych DataFrame'ów z różną liczbą danych. Aby użyć tego najpierw trzeba utworzyć nowe listy, dopiero potem sortować. Jeśli nie utworzy się nowych list to będziemy sortować posortowane listy. Dlatego też, nie mogę użyć rund i liczby powtórzeń w timeit, ponieważ po jednym posortowaniu, dane dla kolejnych powtórzeń byłyby posortowane. Nie mogę też za każdym razem tworzyć listy w tej samej komórce, ponieważ timeit zliczałby też czas tworzenia listy, a nie to jest przedmiotem rozważań."
   ]
  },
  {
   "cell_type": "code",
   "execution_count": 20,
   "id": "951fce25",
   "metadata": {},
   "outputs": [],
   "source": [
    "#imdb_list = df_del.values.tolist()\n",
    "imdb_list_e4 = df1e4.values.tolist()\n",
    "imdb_list_e5 = df1e5.values.tolist()\n",
    "imdb_list_5e5 = df5e5.values.tolist()\n",
    "imdb_list_e6 = df1e6.values.tolist()\n",
    "imdb_list_all = df_del.values.tolist()"
   ]
  },
  {
   "cell_type": "markdown",
   "id": "5c79073e",
   "metadata": {},
   "source": [
    "Następnie badam czasy działania sortowań oraz drukują sobie kilka pierwszych elementów, aby sprawdzić czy na pewno są to oceny 1.0. Aby wypisać te elementy należy zakomentować timeit w komórce sortującej listę."
   ]
  },
  {
   "cell_type": "code",
   "execution_count": 27,
   "id": "b4b7f83b",
   "metadata": {},
   "outputs": [],
   "source": [
    "#%%timeit -r 1 -n 1 #time check\n",
    "after_merge_sort=sort_1.merge_sort(imdb_list_all)"
   ]
  },
  {
   "cell_type": "code",
   "execution_count": 18,
   "id": "c3907106",
   "metadata": {},
   "outputs": [
    {
     "name": "stdout",
     "output_type": "stream",
     "text": [
      "605 ms ± 0 ns per loop (mean ± std. dev. of 1 run, 1 loop each)\n"
     ]
    }
   ],
   "source": [
    "%%timeit -r 1 -n 1 #time check\n",
    "after_bucket_sort = sort_1.bucket_sort(imdb_list_all)"
   ]
  },
  {
   "cell_type": "code",
   "execution_count": 21,
   "id": "58c7a5d3",
   "metadata": {},
   "outputs": [
    {
     "name": "stdout",
     "output_type": "stream",
     "text": [
      "880 ms ± 0 ns per loop (mean ± std. dev. of 1 run, 1 loop each)\n"
     ]
    }
   ],
   "source": [
    "%%timeit -r 1 -n 1 #time check\n",
    "after_quick_sort=sort_1.quick_sort(imdb_list_e4,0,len(imdb_list_e4)-1)"
   ]
  },
  {
   "cell_type": "code",
   "execution_count": 29,
   "id": "c49b0d8d",
   "metadata": {},
   "outputs": [
    {
     "name": "stdout",
     "output_type": "stream",
     "text": [
      "[[1010286, 'Napoleon Dynamite (2004)', 1.0], [1010273, 'Napoleon Dynamite (2004)', 1.0], [1010255, 'Napoleon Dynamite (2004)', 1.0], [1010243, 'The Mummy (1999)', 1.0], [1010238, 'Sky Captain and the World of Tomorrow (2004)', 1.0], [1010226, 'Napoleon Dynamite (2004)', 1.0], [1010221, 'Pippi Longstocking (1997)', 1.0], [1010212, 'Wizards of the Lost Kingdom (1985)', 1.0], [1010206, 'Visconti (2002 TV Movie)', 1.0], [1010197, 'Kiss of Life (2003)', 1.0]]\n"
     ]
    }
   ],
   "source": [
    "print(after_merge_sort[0:10])"
   ]
  },
  {
   "cell_type": "code",
   "execution_count": 30,
   "id": "8758f5f5",
   "metadata": {},
   "outputs": [],
   "source": [
    "#print(after_bucket_sort[0:10])"
   ]
  },
  {
   "cell_type": "code",
   "execution_count": 31,
   "id": "4edf49eb",
   "metadata": {},
   "outputs": [],
   "source": [
    "#print(after_quick_sort[0:10])"
   ]
  },
  {
   "cell_type": "markdown",
   "id": "09ae0ebd",
   "metadata": {},
   "source": [
    "Wniosek: do tego typu danych, gdzie jest tylko 10 możliwych ocen najlepiej nadaje się bucket sort. Mamy mnóstwo danych, ale mało wartości. Gdyby było bardzo dużo danych o bardzo wielu wartościach, wtedy sprawdziłyby się lepiej quick sort oraz merge sort."
   ]
  }
 ],
 "metadata": {
  "kernelspec": {
   "display_name": "Python 3 (ipykernel)",
   "language": "python",
   "name": "python3"
  },
  "language_info": {
   "codemirror_mode": {
    "name": "ipython",
    "version": 3
   },
   "file_extension": ".py",
   "mimetype": "text/x-python",
   "name": "python",
   "nbconvert_exporter": "python",
   "pygments_lexer": "ipython3",
   "version": "3.8.10"
  }
 },
 "nbformat": 4,
 "nbformat_minor": 5
}
