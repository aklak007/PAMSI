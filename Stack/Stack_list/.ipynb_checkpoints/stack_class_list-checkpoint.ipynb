{
 "cells": [
  {
   "cell_type": "code",
   "execution_count": null,
   "id": "05ee3e9c",
   "metadata": {},
   "outputs": [],
   "source": [
    "class Stack_class:\n",
    "\n",
    "    def __init__(self):\n",
    "        self.content = []\n",
    "\n",
    "    def __str__(self):# widok stosu\n",
    "        return str(self.content)\n",
    "\n",
    "    def is_empty(self):#jeśli stosnie jest pusty to zwroc elementy stosu\n",
    "        return not self.content\n",
    "    \n",
    "    def empty(self):        # Sprawdza czy stos jest pusty\n",
    "        if len(self.Stack_class) == 0 : return True\n",
    "        else : return False\n",
    "\n",
    "    def push(self, contents):#dodaje element\n",
    "        self.content.append(contents)        \n",
    "\n",
    "    def pop(self):#usuwa element                  \n",
    "        return self.content.pop()         \n",
    "        \n",
    "    def getSize(self):#rozmiar stosu\n",
    "        return self.size()"
   ]
  }
 ],
 "metadata": {
  "kernelspec": {
   "display_name": "Python 3 (ipykernel)",
   "language": "python",
   "name": "python3"
  },
  "language_info": {
   "codemirror_mode": {
    "name": "ipython",
    "version": 3
   },
   "file_extension": ".py",
   "mimetype": "text/x-python",
   "name": "python",
   "nbconvert_exporter": "python",
   "pygments_lexer": "ipython3",
   "version": "3.8.10"
  }
 },
 "nbformat": 4,
 "nbformat_minor": 5
}
