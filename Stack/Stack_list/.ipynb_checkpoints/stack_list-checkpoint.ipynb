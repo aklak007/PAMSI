{
 "cells": [
  {
   "cell_type": "code",
   "execution_count": 2,
   "id": "360ff167",
   "metadata": {},
   "outputs": [
    {
     "name": "stdout",
     "output_type": "stream",
     "text": [
      "The autoreload extension is already loaded. To reload it, use:\n",
      "  %reload_ext autoreload\n"
     ]
    }
   ],
   "source": [
    "%load_ext autoreload\n",
    "\n",
    "%autoreload 2\n",
    "\n",
    "%reload_ext autoreload\n",
    "import stack_class_list as st #import adt stosu jako st"
   ]
  },
  {
   "cell_type": "code",
   "execution_count": 7,
   "id": "7041a90a",
   "metadata": {
    "scrolled": true
   },
   "outputs": [],
   "source": [
    "#%%timeit -r 100 -n 10000 #badanie czasu działania\n",
    "\n",
    "stack_1 = st.Stack_class()\n",
    "\n",
    "for some_stuff in [100, 1000, 100000]:\n",
    "     stack_1.push(some_stuff)\n",
    "\n",
    "#some_stuff =[100, 1000, 10000]\n",
    "#stack_1.push(some_stuff)"
   ]
  },
  {
   "cell_type": "code",
   "execution_count": 8,
   "id": "aa00c26d",
   "metadata": {},
   "outputs": [
    {
     "name": "stdout",
     "output_type": "stream",
     "text": [
      "10000\n"
     ]
    }
   ],
   "source": [
    "print(stack_1.pop())"
   ]
  },
  {
   "cell_type": "code",
   "execution_count": 5,
   "id": "c5bc835a",
   "metadata": {},
   "outputs": [
    {
     "name": "stdout",
     "output_type": "stream",
     "text": [
      "None\n"
     ]
    }
   ],
   "source": [
    "print(stack_1.pop_all())"
   ]
  },
  {
   "cell_type": "code",
   "execution_count": 10,
   "id": "f4eed6dd",
   "metadata": {},
   "outputs": [
    {
     "name": "stdout",
     "output_type": "stream",
     "text": [
      "3\n"
     ]
    }
   ],
   "source": [
    "print(stack_1.size())"
   ]
  },
  {
   "cell_type": "code",
   "execution_count": 11,
   "id": "0a2dc383",
   "metadata": {},
   "outputs": [
    {
     "name": "stdout",
     "output_type": "stream",
     "text": [
      "False\n"
     ]
    }
   ],
   "source": [
    "print(stack_1.is_empty())"
   ]
  },
  {
   "cell_type": "code",
   "execution_count": 12,
   "id": "40ddf6bb",
   "metadata": {},
   "outputs": [
    {
     "name": "stdout",
     "output_type": "stream",
     "text": [
      "False\n"
     ]
    }
   ],
   "source": [
    "print(stack_1.empty())"
   ]
  },
  {
   "cell_type": "code",
   "execution_count": 15,
   "id": "0f08132b",
   "metadata": {},
   "outputs": [
    {
     "name": "stdout",
     "output_type": "stream",
     "text": [
      "[100, 1000]\n"
     ]
    }
   ],
   "source": [
    "print(stack_1)"
   ]
  },
  {
   "cell_type": "code",
   "execution_count": null,
   "id": "7b5c4d5a",
   "metadata": {},
   "outputs": [],
   "source": []
  }
 ],
 "metadata": {
  "kernelspec": {
   "display_name": "Python 3 (ipykernel)",
   "language": "python",
   "name": "python3"
  },
  "language_info": {
   "codemirror_mode": {
    "name": "ipython",
    "version": 3
   },
   "file_extension": ".py",
   "mimetype": "text/x-python",
   "name": "python",
   "nbconvert_exporter": "python",
   "pygments_lexer": "ipython3",
   "version": "3.8.10"
  }
 },
 "nbformat": 4,
 "nbformat_minor": 5
}
