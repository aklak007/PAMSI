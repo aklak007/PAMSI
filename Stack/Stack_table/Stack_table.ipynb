{
 "cells": [
  {
   "cell_type": "code",
   "execution_count": 38,
   "id": "dc90f84e",
   "metadata": {},
   "outputs": [
    {
     "name": "stdout",
     "output_type": "stream",
     "text": [
      "The autoreload extension is already loaded. To reload it, use:\n",
      "  %reload_ext autoreload\n"
     ]
    }
   ],
   "source": [
    "%load_ext autoreload\n",
    "\n",
    "%autoreload 2\n",
    "\n",
    "%reload_ext autoreload\n",
    "import stack_class_table as st #import adt stosu jako st"
   ]
  },
  {
   "cell_type": "code",
   "execution_count": 39,
   "id": "c94f6800",
   "metadata": {},
   "outputs": [],
   "source": [
    "#%%timeit -r 100 -n 10000 #badanie czasu działania\n",
    "\n",
    "stack_1 = st.Stack_class()\n",
    "\n",
    "for some_stuff in [100, 1000, 10000]:\n",
    "    stack_1.push(some_stuff) #wstawienie towaru \n"
   ]
  },
  {
   "cell_type": "code",
   "execution_count": 40,
   "id": "6355aae7",
   "metadata": {},
   "outputs": [
    {
     "name": "stdout",
     "output_type": "stream",
     "text": [
      "[100, 1000, 10000]\n",
      "top\n",
      "3\n",
      "None\n"
     ]
    }
   ],
   "source": [
    "print(stack_1)\n",
    "print('top')\n",
    "print(stack_1.number)\n",
    "print(stack_1.pop_all())"
   ]
  }
 ],
 "metadata": {
  "kernelspec": {
   "display_name": "Python 3 (ipykernel)",
   "language": "python",
   "name": "python3"
  },
  "language_info": {
   "codemirror_mode": {
    "name": "ipython",
    "version": 3
   },
   "file_extension": ".py",
   "mimetype": "text/x-python",
   "name": "python",
   "nbconvert_exporter": "python",
   "pygments_lexer": "ipython3",
   "version": "3.8.10"
  }
 },
 "nbformat": 4,
 "nbformat_minor": 5
}
