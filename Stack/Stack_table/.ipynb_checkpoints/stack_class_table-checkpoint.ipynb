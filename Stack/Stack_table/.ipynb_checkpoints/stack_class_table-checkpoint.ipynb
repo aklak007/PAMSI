{
 "cells": [
  {
   "cell_type": "code",
   "execution_count": null,
   "id": "0a26a7a2",
   "metadata": {},
   "outputs": [],
   "source": [
    "class Stack:\n",
    "\n",
    "    def __init__(self, size=10):\n",
    "        self.items = size * [None]      # utworzenie tablicy\n",
    "        self.n = 0                      # liczba elementów na stosie\n",
    "        self.size = size\n",
    "\n",
    "    def is_empty(self):\n",
    "        return self.n == 0\n",
    "\n",
    "    def is_full(self):\n",
    "        return self.size == self.n\n",
    "\n",
    "    def push(self, data):\n",
    "        self.items[self.n] = data\n",
    "        self.n += 1\n",
    "\n",
    "    def pop(self):\n",
    "        self.n -= 1\n",
    "        data = self.items[self.n]\n",
    "        self.items[self.n] = None    # usuwam referencję\n",
    "        return data"
   ]
  }
 ],
 "metadata": {
  "kernelspec": {
   "display_name": "Python 3 (ipykernel)",
   "language": "python",
   "name": "python3"
  },
  "language_info": {
   "codemirror_mode": {
    "name": "ipython",
    "version": 3
   },
   "file_extension": ".py",
   "mimetype": "text/x-python",
   "name": "python",
   "nbconvert_exporter": "python",
   "pygments_lexer": "ipython3",
   "version": "3.8.10"
  }
 },
 "nbformat": 4,
 "nbformat_minor": 5
}
